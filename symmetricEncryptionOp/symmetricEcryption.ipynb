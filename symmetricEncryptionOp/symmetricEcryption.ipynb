{
 "cells": [
  {
   "cell_type": "markdown",
   "metadata": {},
   "source": [
    "Perform symmetric encryption operation in the order below:\n",
    "Find the right library that provide you with access to AES256 algorithm\n",
    "Create and save your AES256 key\n",
    "Create a string to test encryption\n",
    "Perform AES256 symmetric encryption on the data to get cipher text\n",
    "Use AES256 symmetric decryption on the cipher text to get original text\n",
    "Use `assert` to check if decrypted data is the same as original string\n",
    "\n",
    "free free to find the right library for the job\n",
    "\n",
    "install with `pip3 install .....`\n",
    "use chat gpt"
   ]
  },
  {
   "cell_type": "code",
   "execution_count": 15,
   "metadata": {},
   "outputs": [
    {
     "name": "stdout",
     "output_type": "stream",
     "text": [
      "Message to encrypt:  Hello World\n",
      "Encrypted message:  b'gAAAAABlTDzABIEli4-NLYm6YXq0fwCCptCh6AUiGuJvekKBwHNDjD4D0ojR52EZWM-Dx-gUjjiu_ejd_5rqYQM2_pvJvYnnEg=='\n",
      "Decrypted message:  Hello World\n"
     ]
    }
   ],
   "source": [
    "import cryptography\n",
    "from cryptography.fernet import Fernet\n",
    "\n",
    "#Generate AES256 key\n",
    "key = Fernet.generate_key()\n",
    "\n",
    "#Save key to text file\n",
    "with open(\"symmetricEncryption.txt\", \"wb\") as keyFile:\n",
    "    keyFile.write(key)\n",
    "\n",
    "#message to encrypt\n",
    "messageToEncrypt = \"Hello World\"\n",
    "\n",
    "#Load key from file\n",
    "with open(\"symmetricEncryption.txt\", \"rb\") as keyFile:\n",
    "    key = keyFile.read()\n",
    "\n",
    "#create Fernet cipher with loaded key\n",
    "cipherLibrary = Fernet(key)\n",
    "\n",
    "#encrypt message\n",
    "encryptedMessage = cipherLibrary.encrypt(messageToEncrypt.encode('utf-8'))\n",
    "\n",
    "#decrpyt message\n",
    "decryptedMessage = cipherLibrary.decrypt(encryptedMessage)\n",
    "\n",
    "#asset to check if decrypted message is same as original message\n",
    "assert messageToEncrypt == decryptedMessage.decode('utf-8'), \"crap, messages don't match.  Try again, you can do it\"\n",
    "\n",
    "print(\"Message to encrypt: \", messageToEncrypt)\n",
    "print(\"Encrypted message: \", encryptedMessage)\n",
    "print(\"Decrypted message: \", decryptedMessage.decode('utf-8'))\n"
   ]
  }
 ],
 "metadata": {
  "kernelspec": {
   "display_name": "Python 3",
   "language": "python",
   "name": "python3"
  },
  "language_info": {
   "codemirror_mode": {
    "name": "ipython",
    "version": 3
   },
   "file_extension": ".py",
   "mimetype": "text/x-python",
   "name": "python",
   "nbconvert_exporter": "python",
   "pygments_lexer": "ipython3",
   "version": "3.12.0"
  }
 },
 "nbformat": 4,
 "nbformat_minor": 2
}
