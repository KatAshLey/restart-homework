{
 "cells": [
  {
   "cell_type": "markdown",
   "metadata": {},
   "source": [
    "creates a caesar cipher encryption"
   ]
  },
  {
   "cell_type": "code",
   "execution_count": 18,
   "metadata": {},
   "outputs": [
    {
     "name": "stdout",
     "output_type": "stream",
     "text": [
      "CMULJ 2\n"
     ]
    }
   ],
   "source": [
    "alphabet = [\"A\",\"B\",\"C\",\"D\",\"E\",\"F\",\"G\",\"H\",\"I\",\"J\",\"K\",\"L\",\"M\",\"N\",\"O\",\"P\",\"Q\",\"R\",\"S\",\"T\",\"U\",\"V\",\"W\",\"X\",\"Y\",\"Z\"]\n",
    "\n",
    "message = input(\"what is your secret message?\")\n",
    "shiftKey = int(input(\"how many to shift?\"))\n",
    "capMessage = message.upper()\n",
    "\n",
    "def caesarEncrypt (m, sK):\n",
    "    eM = \"\"\n",
    "    for char in m:\n",
    "        if char.isalpha():\n",
    "            lPos = (alphabet.index(char)+sK)\n",
    "            while lPos > 25:\n",
    "                lPos -= 26\n",
    "            eLetter = alphabet[lPos]\n",
    "            eM += eLetter\n",
    "        else:\n",
    "            eM += char\n",
    "    print(eM)\n",
    "                \n",
    "caesarEncrypt (capMessage, shiftKey)\n"
   ]
  },
  {
   "cell_type": "code",
   "execution_count": 19,
   "metadata": {},
   "outputs": [
    {
     "name": "stdout",
     "output_type": "stream",
     "text": [
      "YIEQBJ 3\n"
     ]
    }
   ],
   "source": [
    "alphabet = [\"A\",\"B\",\"C\",\"D\",\"E\",\"F\",\"G\",\"H\",\"I\",\"J\",\"K\",\"L\",\"M\",\"N\",\"O\",\"P\",\"Q\",\"R\",\"S\",\"T\",\"U\",\"V\",\"W\",\"X\",\"Y\",\"Z\"]\n",
    "\n",
    "message = input(\"what is your secret message to decode?\")\n",
    "shiftKey = int(input(\"how many to shift?\"))\n",
    "capMessage = message.upper()\n",
    "\n",
    "def caesarDecrypt (m, sK):\n",
    "    eM = \"\"\n",
    "    for char in m:\n",
    "        if char.isalpha():\n",
    "            lPos = (alphabet.index(char))\n",
    "            while lPos > 25:\n",
    "                lPos += 26\n",
    "            eLetter = alphabet[lPos-sK]\n",
    "            eM += eLetter\n",
    "        else:\n",
    "            eM += char\n",
    "    print(eM)\n",
    "                \n",
    "caesarDecrypt (capMessage, shiftKey)"
   ]
  }
 ],
 "metadata": {
  "kernelspec": {
   "display_name": "Python 3",
   "language": "python",
   "name": "python3"
  },
  "language_info": {
   "codemirror_mode": {
    "name": "ipython",
    "version": 3
   },
   "file_extension": ".py",
   "mimetype": "text/x-python",
   "name": "python",
   "nbconvert_exporter": "python",
   "pygments_lexer": "ipython3",
   "version": "3.12.0"
  }
 },
 "nbformat": 4,
 "nbformat_minor": 2
}
