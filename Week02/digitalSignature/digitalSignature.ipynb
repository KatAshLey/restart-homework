{
 "cells": [
  {
   "cell_type": "markdown",
   "metadata": {},
   "source": [
    "Perform digital signature operation in the order below:\n",
    "Generate an RSA256 key pair (public and private keys)\n",
    "Use the private key to sign an input message\n",
    "Use the public key to verify the signature\n",
    "\n",
    "Describe in words how you get around not being able to sign a very large\n",
    "message\n",
    "++++++++++++++++++++++++++++++++\n",
    "sign the hash"
   ]
  },
  {
   "cell_type": "code",
   "execution_count": 38,
   "metadata": {},
   "outputs": [
    {
     "name": "stdout",
     "output_type": "stream",
     "text": [
      "Signature is valid\n"
     ]
    }
   ],
   "source": [
    "from Crypto.PublicKey import RSA\n",
    "from Crypto import Random\n",
    "from Crypto.Signature import pkcs1_15\n",
    "from Crypto.Hash import SHA256\n",
    "\n",
    "#generate RSA key pair\n",
    "randomNum = Random.new().read\n",
    "key = RSA.generate(2048, randomNum)\n",
    "\n",
    "\"\"\"#get private key in PEM format\n",
    "privateKey = key.export_key()\n",
    "\n",
    "#get public key in PEM format\n",
    "publicKey = key.publickey().export_key()\n",
    "\n",
    "print(\"private Key: \")\n",
    "print(privateKey.decode())\n",
    "print(\"Public Key: \")\n",
    "print(publicKey) \"\"\"\n",
    "\n",
    "#write private key to file and assign to keyPrivate\n",
    "f = open('myPrivateKey.pem','wb')\n",
    "f.write(key.export_key('PEM'))\n",
    "f.close()\n",
    "\n",
    "f = open('myPrivateKey.pem','r')\n",
    "keyPrivate = RSA.import_key(f.read())\n",
    "\n",
    "#write public key to file and assign to keyPublic\n",
    "f = open('myPublicKey.pem','wb')\n",
    "f.write(key.publickey().export_key('PEM'))\n",
    "f.close()\n",
    "\n",
    "f = open('myPublicKey.pem','r')\n",
    "keyPublic = RSA.import_key(f.read())\n",
    "\n",
    "#input message changed to hash\n",
    "inputMessage = input(\"Type your message to sign\")\n",
    "message = inputMessage.encode()         #change string to bytes.  can use b befrore string or .encode()/decode()\n",
    "hashMessage = SHA256.new(message)\n",
    "\n",
    "#private key to sign message\n",
    "signedMessage = pkcs1_15.new(keyPrivate).sign(hashMessage)\n",
    "\n",
    "#public key verify signature\n",
    "try:\n",
    "    pkcs1_15.new(keyPublic).verify(hashMessage, signedMessage)\n",
    "    print(\"Signature is valid\")\n",
    "except (ValueError, TypeError):\n",
    "    print(\"Signature is invalid\")"
   ]
  }
 ],
 "metadata": {
  "kernelspec": {
   "display_name": "Python 3",
   "language": "python",
   "name": "python3"
  },
  "language_info": {
   "codemirror_mode": {
    "name": "ipython",
    "version": 3
   },
   "file_extension": ".py",
   "mimetype": "text/x-python",
   "name": "python",
   "nbconvert_exporter": "python",
   "pygments_lexer": "ipython3",
   "version": "3.12.0"
  }
 },
 "nbformat": 4,
 "nbformat_minor": 2
}
