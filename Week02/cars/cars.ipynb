{
 "cells": [
  {
   "cell_type": "code",
   "execution_count": 16,
   "metadata": {},
   "outputs": [
    {
     "name": "stdout",
     "output_type": "stream",
     "text": [
      "{'brand': 'Tesla', 'milageKm': 2045, 'range': 5}\n",
      "{'brand': 'Chevy', 'milageKm': 30190, 'fuelConsumption': 8, 'fuelLevel': 44.8}\n"
     ]
    }
   ],
   "source": [
    "#define car parent class\n",
    "class Car:\n",
    "    def __init__(self, brand, milageKm):\n",
    "        self.brand = brand\n",
    "        self.milageKm = milageKm\n",
    "        \n",
    "    def drive(self, distanceKm):\n",
    "        self.milageKm += distanceKm\n",
    "\n",
    "#define electric child class\n",
    "class Electric(Car):\n",
    "    def __init__(self, brand, milageKm, range):\n",
    "        super().__init__(brand, milageKm)\n",
    "        self.range = range\n",
    "        \n",
    "    def drive(self, distance):\n",
    "        self.milageKm += distance\n",
    "        self.range -= distance\n",
    "\n",
    "#define ice child class\n",
    "class Ice(Car):\n",
    "    def __init__(self, brand, milageKm, fuelConsumption, fuelLevel):\n",
    "        Car.__init__(self, brand, milageKm)\n",
    "        self.fuelConsumption = fuelConsumption\n",
    "        self.fuelLevel = fuelLevel \n",
    "        \n",
    "    def drive(self, distance):\n",
    "        self.milageKm += distance\n",
    "        self.fuelLevel -= distance*self.fuelConsumption/100\n",
    "\n",
    "#define variables\n",
    "ev = Electric(\"Tesla\", 2000, 50)\n",
    "classic = Ice(\"Chevy\", 30000, 8, 60)\n",
    "\n",
    "#call methods\n",
    "ev.drive(20)\n",
    "ev.drive(10)\n",
    "ev.drive(15)\n",
    "\n",
    "classic.drive(100)\n",
    "classic.drive(70)\n",
    "classic.drive(20)\n",
    "\n",
    "print(ev.__dict__)\n",
    "print(classic.__dict__)"
   ]
  }
 ],
 "metadata": {
  "kernelspec": {
   "display_name": "Python 3",
   "language": "python",
   "name": "python3"
  },
  "language_info": {
   "codemirror_mode": {
    "name": "ipython",
    "version": 3
   },
   "file_extension": ".py",
   "mimetype": "text/x-python",
   "name": "python",
   "nbconvert_exporter": "python",
   "pygments_lexer": "ipython3",
   "version": "3.12.0"
  }
 },
 "nbformat": 4,
 "nbformat_minor": 2
}
