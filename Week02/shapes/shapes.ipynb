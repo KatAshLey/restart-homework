{
 "cells": [
  {
   "cell_type": "markdown",
   "metadata": {},
   "source": [
    "1) Create a parent class `Shape`\n",
    "Only define the `def area()` interface function\n",
    "\n",
    "2) Create a child/inherited class of `Shape`\n",
    "For example `Triangle`\n",
    "Define how Triagle is constructed (example below)\n",
    "a, b, c\n",
    "assert that it is a valid triangle\n",
    "assert a+b > c (do this 3 times)\n",
    "Define how `area()` is correctly calculated\n",
    "Test out the definition of a Rectangle + correct area calculated\n",
    "\n",
    "3) do the above for 3 more shapes"
   ]
  },
  {
   "cell_type": "code",
   "execution_count": 11,
   "metadata": {},
   "outputs": [
    {
     "name": "stdout",
     "output_type": "stream",
     "text": [
      "Triangle side lengths:  5 4 3\n",
      "Triangle area:  6.0\n",
      "Assertion Error: Invalid triangle. Sum of side 1 and 2 is not greater than side 3\n"
     ]
    }
   ],
   "source": [
    "import math \n",
    "\n",
    "#create Shape class\n",
    "class Shape:\n",
    "    def area():\n",
    "        pass\n",
    "\n",
    "#initialize Triangle class\n",
    "class Triangle(Shape):\n",
    "    def __init__(self, a, b, c):\n",
    "        self.a = a\n",
    "        self.b = b\n",
    "        self.c = c\n",
    "        self.validate()\n",
    "    \n",
    "    #validate triangle. sum of two sides is greater than third side\n",
    "    def validate(self):\n",
    "        assert self.a + self.b > self.c, \"Invalid triangle. Sum of side 1 and 2 is not greater than side 3\"\n",
    "        assert self.b + self.c > self.a, \"Invalid triangle. Sum of side 2 and 3 is not greater than side 1\"\n",
    "        assert self.c + self.a > self.b, \"Invalid triangle. Sum of side 3 and 1 is not greater than side 2\"\n",
    "\n",
    "    #area calculation for triangle - area = 1/2 x base x height. Using heron's formula s = (a+b+c)/2,   A = √[s(s-a)(s-b)(s-c)]\n",
    "    def area(self):\n",
    "        s = (self.a + self.b + self.c) / 2\n",
    "        area = math.sqrt(s * (s - self.a) * (s - self.b) * (s - self.c))\n",
    "        return area\n",
    "    \n",
    "try:\n",
    "    #valid triangle   \n",
    "    triangle = Triangle(5, 4, 3)\n",
    "    print(\"Triangle side lengths: \", triangle.a, triangle.b, triangle.c)\n",
    "    print(\"Triangle area: \", triangle.area())\n",
    "\n",
    "    #invalid triangle\n",
    "    invalidRectangle = Triangle(1, 1, 3)\n",
    "except AssertionError as e:\n",
    "    print(f\"Assertion Error: {e}\")\n"
   ]
  },
  {
   "cell_type": "code",
   "execution_count": 13,
   "metadata": {},
   "outputs": [
    {
     "name": "stdout",
     "output_type": "stream",
     "text": [
      "Rectangle side lengths:  5 7\n",
      "Rectangle area:  35\n",
      "Assertion Error: Invalid rectangle: width is less than 0\n"
     ]
    }
   ],
   "source": [
    "import math \n",
    "\n",
    "#create Shape class\n",
    "class Shape:\n",
    "    def area():\n",
    "        pass\n",
    "\n",
    "#initialize Rectangle class\n",
    "class Rectangle(Shape):\n",
    "    def __init__(self, width, height):\n",
    "        self.w = width\n",
    "        self.h = height\n",
    "        self.validate()\n",
    "    \n",
    "    #validate rectangle. if two integers are equal, check if the other two are equal\n",
    "    def validate(self):\n",
    "        assert self.w > 0, \"Invalid rectangle: width is less than 0\"\n",
    "        assert self.h > 0, \"Invalid rectangle: height is less than 0\"\n",
    "        \n",
    "\n",
    "    #area calculation for rectangle. area = width x height\n",
    "    def area(self):\n",
    "        area = self.w * self.h\n",
    "        return area\n",
    "    \n",
    "try:\n",
    "    #valid rectangle   \n",
    "    rectangle = Rectangle(5, 7)\n",
    "    print(\"Rectangle side lengths: \", rectangle.w, rectangle.h)\n",
    "    print(\"Rectangle area: \", rectangle.area())\n",
    "\n",
    "    #invalid rectangle\n",
    "    invalidRectangle = Rectangle(0, 1)\n",
    "except AssertionError as e:\n",
    "    print(f\"Assertion Error: {e}\")\n"
   ]
  },
  {
   "cell_type": "code",
   "execution_count": 14,
   "metadata": {},
   "outputs": [
    {
     "name": "stdout",
     "output_type": "stream",
     "text": [
      "Circle radius:  3\n",
      "Circle area:  28.274333882308138\n",
      "Assertion Error: Invalid circle: radius is less than 0\n"
     ]
    }
   ],
   "source": [
    "import math \n",
    "\n",
    "#create Shape class\n",
    "class Shape:\n",
    "    def area():\n",
    "        pass\n",
    "\n",
    "#initialize Circle class\n",
    "class Circle(Shape):\n",
    "    def __init__(self, radius):\n",
    "        self.r = radius\n",
    "        self.validate()\n",
    "    \n",
    "    #validate circle. if radius is > 0\n",
    "    def validate(self):\n",
    "        assert self.r > 0, \"Invalid circle: radius is less than 0\"\n",
    "\n",
    "    #area calculation for circle. area = pi r squared\n",
    "    def area(self):\n",
    "        area = math.pi * self.r *self.r\n",
    "        return area\n",
    "    \n",
    "try:\n",
    "    #valid circle   \n",
    "    circle = Circle(3)\n",
    "    print(\"Circle radius: \", circle.r)\n",
    "    print(\"Circle area: \", circle.area())\n",
    "\n",
    "    #invalid circle\n",
    "    invalidCircle = Circle(-5)\n",
    "except AssertionError as e:\n",
    "    print(f\"Assertion Error: {e}\")\n"
   ]
  },
  {
   "cell_type": "code",
   "execution_count": 17,
   "metadata": {},
   "outputs": [
    {
     "name": "stdout",
     "output_type": "stream",
     "text": [
      "Dodecahedron side lengths:  3\n",
      "Dodecahedron area:  185.81155926360842\n",
      "Assertion Error: Invalid Dodecahedron: edge length is less than 0\n"
     ]
    }
   ],
   "source": [
    "import math \n",
    "\n",
    "#create Shape class\n",
    "class Shape:\n",
    "    def area():\n",
    "        pass\n",
    "\n",
    "#initialize Dodecahedron class\n",
    "class Dodecahedron(Shape):\n",
    "    def __init__(self, e):\n",
    "        self.e = e\n",
    "        self.validate()\n",
    "    \n",
    "    #validate Dodecahedron. edge is > 0\n",
    "    def validate(self):\n",
    "        assert self.e > 0, \"Invalid Dodecahedron: edge length is less than 0\"\n",
    "\n",
    "    #area calculation for Dodecahedron - area =3√[25 + 10√[5] a^2\n",
    "    def area(self):\n",
    "        area = 3 * (math.sqrt (25 + 10 * math.sqrt(5))) * (self.e * self.e)\n",
    "        return area\n",
    "    \n",
    "try:\n",
    "    #valid Dodecahedron   \n",
    "    dodecahedron = Dodecahedron(3)\n",
    "    print(\"Dodecahedron side lengths: \", dodecahedron.e)\n",
    "    print(\"Dodecahedron area: \", dodecahedron.area())\n",
    "\n",
    "    #invalid Dodecahedron\n",
    "    invalidDodecahedron = Dodecahedron(-645)\n",
    "except AssertionError as e:\n",
    "    print(f\"Assertion Error: {e}\")\n"
   ]
  }
 ],
 "metadata": {
  "kernelspec": {
   "display_name": "Python 3",
   "language": "python",
   "name": "python3"
  },
  "language_info": {
   "codemirror_mode": {
    "name": "ipython",
    "version": 3
   },
   "file_extension": ".py",
   "mimetype": "text/x-python",
   "name": "python",
   "nbconvert_exporter": "python",
   "pygments_lexer": "ipython3",
   "version": "3.12.0"
  }
 },
 "nbformat": 4,
 "nbformat_minor": 2
}
