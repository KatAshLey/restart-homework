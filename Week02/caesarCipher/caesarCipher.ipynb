{
 "cells": [
  {
   "cell_type": "code",
   "execution_count": 2,
   "metadata": {},
   "outputs": [
    {
     "name": "stdout",
     "output_type": "stream",
     "text": [
      "KHOOR ZRUOG!\n"
     ]
    }
   ],
   "source": [
    "#encrypts a string using a caesar cipher, requires input string and input shift key\n",
    "\n",
    "#alphabet dictionary\n",
    "alphabet = [\"A\",\"B\",\"C\",\"D\",\"E\",\"F\",\"G\",\"H\",\"I\",\"J\",\"K\",\"L\",\"M\",\"N\",\"O\",\"P\",\"Q\",\"R\",\"S\",\"T\",\"U\",\"V\",\"W\",\"X\",\"Y\",\"Z\"]\n",
    "\n",
    "#ask for input of string and shift key, capitalize string\n",
    "message = input(\"what is your secret message?\")\n",
    "shift_key = int(input(\"how many to shift?\"))\n",
    "cap_message = message.upper()\n",
    "\n",
    "#encrypts message\n",
    "def caesarEncrypt (m, sK):\n",
    "    e_message = \"\"\n",
    "    for char in m:\n",
    "        if char.isalpha():\n",
    "            lPos = (alphabet.index(char)+sK)\n",
    "            if (lPos > 25):\n",
    "                lPos = lPos % 26\n",
    "            e_letter = alphabet[lPos]\n",
    "            e_message += e_letter\n",
    "        else:\n",
    "            e_message += char\n",
    "    print(e_message)\n",
    "                \n",
    "caesarEncrypt (cap_message, shift_key)\n"
   ]
  },
  {
   "cell_type": "code",
   "execution_count": 8,
   "metadata": {},
   "outputs": [
    {
     "name": "stdout",
     "output_type": "stream",
     "text": [
      "THIS IS JUST ANOTHER SECRET CODE MESSAGE>\":)$@&&\n"
     ]
    }
   ],
   "source": [
    "#decrypts a string using a caesar cipher, requires input string and input shift key\n",
    "\n",
    "#alphabet dictionary\n",
    "alphabet = [\"A\",\"B\",\"C\",\"D\",\"E\",\"F\",\"G\",\"H\",\"I\",\"J\",\"K\",\"L\",\"M\",\"N\",\"O\",\"P\",\"Q\",\"R\",\"S\",\"T\",\"U\",\"V\",\"W\",\"X\",\"Y\",\"Z\"]\n",
    "\n",
    "#ask for input of string and shift key, capitalize string\n",
    "message = input(\"what is your secret message to decode?\")\n",
    "shift_key = int(input(\"how many to shift?\"))\n",
    "cap_message = message.upper()\n",
    "\n",
    "#decrypts message\n",
    "def caesarDecrypt (m, sK):\n",
    "    e_message = \"\"\n",
    "    for char in m:\n",
    "        if char.isalpha():\n",
    "            lPos = (alphabet.index(char) % 26)\n",
    "            #if (lPos < 0):\n",
    "            #    lPos = lPos % 26\n",
    "            e_letter = alphabet[lPos-sK]\n",
    "            e_message += eLetter\n",
    "        else:\n",
    "            e_message += char\n",
    "    print(e_message)\n",
    "                \n",
    "caesarDecrypt (cap_message, shift_key)"
   ]
  }
 ],
 "metadata": {
  "kernelspec": {
   "display_name": "Python 3",
   "language": "python",
   "name": "python3"
  },
  "language_info": {
   "codemirror_mode": {
    "name": "ipython",
    "version": 3
   },
   "file_extension": ".py",
   "mimetype": "text/x-python",
   "name": "python",
   "nbconvert_exporter": "python",
   "pygments_lexer": "ipython3",
   "version": "3.12.0"
  }
 },
 "nbformat": 4,
 "nbformat_minor": 2
}
