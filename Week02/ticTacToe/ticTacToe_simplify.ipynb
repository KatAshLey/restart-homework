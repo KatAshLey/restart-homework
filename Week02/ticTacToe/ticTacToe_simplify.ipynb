{
 "cells": [
  {
   "cell_type": "code",
   "execution_count": 1,
   "metadata": {},
   "outputs": [],
   "source": [
    "#prints a tic tac toe board to a text file\n",
    "\n",
    "#takes user input for the size of the board\n",
    "while True:\n",
    "    size = input(\"What size tic tac toe board?\")\n",
    "    try:\n",
    "        size = int(size)\n",
    "        if (size < 1):\n",
    "            print(\"Need a larger number than that\")\n",
    "        elif (size > 10):\n",
    "            print(\"Woah!!! Way too big. Try again\")\n",
    "        else:\n",
    "            break\n",
    "    except TypeError:\n",
    "        print(\"Try a number this time\")\n",
    "    \n",
    "    \n",
    "#creates the board\n",
    "gridSize = size * 3 + 2\n",
    "strBoard = \"\"\n",
    "for row in range(gridSize):\n",
    "    for col in range(gridSize):\n",
    "        if (row == size or row == size * 2 + 1):\n",
    "            #print(\"-\", end=\"\")\n",
    "            strBoard += (\"-\")\n",
    "        elif(col == size or col == size * 2 + 1):\n",
    "            strBoard += (\"|\")\n",
    "            #print(\"|\", end=\"\")\n",
    "        else:\n",
    "            strBoard += (\"s\")\n",
    "            #print(\"s\", end=\"\")\n",
    "    strBoard +=\"\\n\"\n",
    "    #print()\n",
    "    \n",
    "#board to text file\n",
    "with open(\"ticTacToe_simplify.txt\", \"w\") as f:\n",
    "    f.writelines(strBoard)"
   ]
  }
 ],
 "metadata": {
  "kernelspec": {
   "display_name": "Python 3",
   "language": "python",
   "name": "python3"
  },
  "language_info": {
   "codemirror_mode": {
    "name": "ipython",
    "version": 3
   },
   "file_extension": ".py",
   "mimetype": "text/x-python",
   "name": "python",
   "nbconvert_exporter": "python",
   "pygments_lexer": "ipython3",
   "version": "3.12.0"
  }
 },
 "nbformat": 4,
 "nbformat_minor": 2
}
