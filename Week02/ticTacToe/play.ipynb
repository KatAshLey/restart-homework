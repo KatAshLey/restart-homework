{
 "cells": [
  {
   "cell_type": "code",
   "execution_count": null,
   "metadata": {},
   "outputs": [],
   "source": [
    "v = [1, 2, 3, 4];\n",
    "u = repelem(v,3)\n"
   ]
  },
  {
   "cell_type": "code",
   "execution_count": 3,
   "metadata": {},
   "outputs": [
    {
     "name": "stdout",
     "output_type": "stream",
     "text": [
      "more another\n"
     ]
    }
   ],
   "source": [
    "string = \"\"\n",
    "string += (\"more\")\n",
    "string += (\" another\")\n",
    "print(string)"
   ]
  },
  {
   "cell_type": "code",
   "execution_count": 7,
   "metadata": {},
   "outputs": [
    {
     "name": "stdout",
     "output_type": "stream",
     "text": [
      "The original list : [4, 5, 6]\n",
      "The list after adding elements : [4, 4, 4, 5, 5, 5, 6, 6, 6]\n"
     ]
    }
   ],
   "source": [
    "# initializing list of lists\n",
    "test_list = [4, 5, 6]\n",
    " \n",
    "# printing original list\n",
    "print(\"The original list : \" + str(test_list))\n",
    " \n",
    "# declaring magnitude of repetition\n",
    "K = 3\n",
    " \n",
    "# using list comprehension\n",
    "# repeat elements K times\n",
    "res = [ele for ele in test_list for i in range(K)]\n",
    " \n",
    "# printing result\n",
    "print(\"The list after adding elements : \" + str(res))"
   ]
  },
  {
   "cell_type": "code",
   "execution_count": 10,
   "metadata": {},
   "outputs": [
    {
     "name": "stdout",
     "output_type": "stream",
     "text": [
      "['s', '|', 's', '|', 's']\n",
      "['s', 's', '|', '|', 's', 's', '|', '|', 's', 's']\n",
      "['s', 's', '|', 's', 's', '|', 's', 's']\n"
     ]
    }
   ],
   "source": [
    "s = \"s\"\n",
    "v = \"|\"\n",
    "h = \"-\"\n",
    "j = \"-\"\n",
    "\n",
    "spaceLineBase = [s, v, s, v, s]\n",
    "\n",
    "print(spaceLineBase)\n",
    "\n",
    "rep = 2\n",
    "\n",
    "newList = [ele for ele in spaceLineBase for i in range(rep)]\n",
    "\n",
    "nList = []\n",
    "for sL in spaceLineBase:\n",
    "    if sL == s:\n",
    "        nList.extend(sL * rep)\n",
    "    else:\n",
    "        nList.extend(sL*1)\n",
    "        \n",
    "    \n",
    "print(newList)\n",
    "print(nList)"
   ]
  },
  {
   "cell_type": "markdown",
   "metadata": {},
   "source": [
    "colSize = 8\n",
    "boards = [s,s,v,s,s,v,s,s,s,s,v,s,s,v,s,s]\n",
    "newBoard = []\n",
    "\n",
    "while (len(boards)):\n",
    "    newBoard.append(boards.slice(0,colSize))\n",
    "\n",
    "for(var i=0; i < arr.length;) {\n",
    "          newArr.push(arr.slice(i, i+=size));"
   ]
  },
  {
   "cell_type": "code",
   "execution_count": 20,
   "metadata": {},
   "outputs": [
    {
     "name": "stdout",
     "output_type": "stream",
     "text": [
      "[[0, 1, 2, 3, 4, 5, 6, 7, 8, 9]]\n",
      "[[0, 1, 2], [3, 4, 5], [6, 7, 8, 9]]\n",
      "[[0], [1], [2], [3, 4], [5], [6], [7], [8, 9]]\n"
     ]
    }
   ],
   "source": [
    "def split_list(alist, wanted_parts=1):\n",
    "    length = len(alist)\n",
    "    return [ alist[i*length // wanted_parts: (i+1)*length // wanted_parts] \n",
    "             for i in range(wanted_parts) ]\n",
    "\n",
    "A = [0,1,2,3,4,5,6,7,8,9]\n",
    "\n",
    "print (split_list(A, wanted_parts=1))\n",
    "print (split_list(A, wanted_parts=3))\n",
    "print (split_list(A, wanted_parts=8))"
   ]
  },
  {
   "cell_type": "code",
   "execution_count": 24,
   "metadata": {},
   "outputs": [
    {
     "name": "stdout",
     "output_type": "stream",
     "text": [
      "[['s', 's', '|', 's', 's', '|', 's', 's'], ['s', 's', '|', 's', 's', '|', 's', 's'], ['-', '-', '-', '-', '-', '-', '-', '-']]\n"
     ]
    }
   ],
   "source": [
    "size = 3\n",
    "boards = [s,s,v,s,s,v,s,s,s,s,v,s,s,v,s,s,h,h,j,h,h,j,h,h]\n",
    "newBoard = []\n",
    "\n",
    "length = len(boards)\n",
    "newBoards = [boards[i*length // size: (i+1)*length // size]\n",
    "           for i in range(size)]\n",
    "\n",
    "print(newBoards)\n",
    "    "
   ]
  },
  {
   "cell_type": "code",
   "execution_count": null,
   "metadata": {},
   "outputs": [],
   "source": []
  }
 ],
 "metadata": {
  "kernelspec": {
   "display_name": "Python 3",
   "language": "python",
   "name": "python3"
  },
  "language_info": {
   "codemirror_mode": {
    "name": "ipython",
    "version": 3
   },
   "file_extension": ".py",
   "mimetype": "text/x-python",
   "name": "python",
   "nbconvert_exporter": "python",
   "pygments_lexer": "ipython3",
   "version": "3.12.0"
  }
 },
 "nbformat": 4,
 "nbformat_minor": 2
}
