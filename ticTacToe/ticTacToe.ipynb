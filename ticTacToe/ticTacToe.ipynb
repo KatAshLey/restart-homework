{
 "cells": [
  {
   "cell_type": "code",
   "execution_count": 4,
   "metadata": {},
   "outputs": [
    {
     "name": "stdout",
     "output_type": "stream",
     "text": [
      "s s | s s | s s \n",
      "s s | s s | s s \n",
      "- - + - - + - - \n",
      "s s | s s | s s \n",
      "s s | s s | s s \n",
      "- - + - - + - - \n",
      "s s | s s | s s \n",
      "s s | s s | s s \n"
     ]
    }
   ],
   "source": [
    "s = \"s\"\n",
    "v = \"|\"\n",
    "h = \"-\"\n",
    "j = \"+\"\n",
    "\n",
    "size = 1\n",
    "\n",
    "spaceLineBase = [s, v, s, v, s]\n",
    "dashLineBase = [h, j, h, j, h]\n",
    "\n",
    "spaceLine = []\n",
    "dashLine = []\n",
    "board = [spaceLine, dashLine, spaceLine, dashLine, spaceLine]\n",
    "boards = []\n",
    "\n",
    "#ask for user input for size of tictactoe board\n",
    "size = int(input(\"What size board for tic tac toe?\"))\n",
    "\n",
    "if size <= 0:\n",
    "    size = int(input(\"Needs to be bigger. What size board for tic tac toe?\"))\n",
    "elif size >= 11:\n",
    "    size = int(input(\"Woah!!! Too big, try smaller. What size board for tic tac toe?\"))\n",
    "\n",
    "colSize = size*3 + 2\n",
    "rowSize = size*3 + 2\n",
    "\n",
    "#extends space for size\n",
    "for sL in spaceLineBase:\n",
    "    if sL == s:\n",
    "        spaceLine.extend(sL * size)\n",
    "    else:\n",
    "        spaceLine.extend(sL*1)\n",
    "        \n",
    "#extends dash for size\n",
    "for dL in dashLineBase:\n",
    "    if dL == h:\n",
    "        dashLine.extend(dL * size)\n",
    "    else:\n",
    "        dashLine.extend(dL*1)\n",
    "\n",
    "#extend height for size\n",
    "for line in board:\n",
    "    if line == spaceLine:\n",
    "        boards.extend(line * size)\n",
    "    else:\n",
    "        boards.extend(line * 1)\n",
    "\n",
    "#breaks 1d array into 2d array\n",
    "length = len(boards)\n",
    "newBoards = [boards[i*length // colSize: (i+1)*length // colSize]\n",
    "            for i in range(colSize)]\n",
    "\n",
    "'''\n",
    "print()\n",
    "print(colSize)\n",
    "print(dashLine)\n",
    "print(spaceLine)\n",
    "\n",
    "print(board)\n",
    "print(boards)\n",
    "print(newBoards)\n",
    "print()\n",
    "'''\n",
    "\n",
    "\n",
    "#prints board if its a 2d array\n",
    "for i in range(len(newBoards)):\n",
    "    for j in range(len(newBoards[i])):\n",
    "        print(newBoards[i][j], end=\" \")\n",
    "    print()\n",
    "    \n",
    "\n"
   ]
  },
  {
   "cell_type": "code",
   "execution_count": null,
   "metadata": {},
   "outputs": [],
   "source": []
  }
 ],
 "metadata": {
  "kernelspec": {
   "display_name": "Python 3",
   "language": "python",
   "name": "python3"
  },
  "language_info": {
   "codemirror_mode": {
    "name": "ipython",
    "version": 3
   },
   "file_extension": ".py",
   "mimetype": "text/x-python",
   "name": "python",
   "nbconvert_exporter": "python",
   "pygments_lexer": "ipython3",
   "version": "3.12.0"
  }
 },
 "nbformat": 4,
 "nbformat_minor": 2
}
