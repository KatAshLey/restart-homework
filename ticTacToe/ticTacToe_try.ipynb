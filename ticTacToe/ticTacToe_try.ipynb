{
 "cells": [
  {
   "cell_type": "code",
   "execution_count": null,
   "metadata": {},
   "outputs": [],
   "source": [
    "size = int(input(\"What size board?\"))\n",
    "\n",
    "#line 1/3/5 space line\n",
    "def spaceLine (size):\n",
    "    for i in range(size):\n",
    "        print((\"s\" * size) + \"|\" + (\"s\" * size) + \"|\" + (\"s\" * size))\n",
    "\n",
    "#line 2/4 dash line\n",
    "def dashLine (size):\n",
    "    print((2 + 3 * size) * \"-\")\n",
    "\n",
    "spaceLine(size)\n",
    "dashLine(size)\n",
    "spaceLine(size)\n",
    "dashLine(size)\n",
    "spaceLine(size)\n",
    "\n"
   ]
  },
  {
   "cell_type": "code",
   "execution_count": null,
   "metadata": {},
   "outputs": [],
   "source": [
    "size = 2\n"
   ]
  }
 ],
 "metadata": {
  "kernelspec": {
   "display_name": "Python 3",
   "language": "python",
   "name": "python3"
  },
  "language_info": {
   "codemirror_mode": {
    "name": "ipython",
    "version": 3
   },
   "file_extension": ".py",
   "mimetype": "text/x-python",
   "name": "python",
   "nbconvert_exporter": "python",
   "pygments_lexer": "ipython3",
   "version": "3.12.0"
  }
 },
 "nbformat": 4,
 "nbformat_minor": 2
}
