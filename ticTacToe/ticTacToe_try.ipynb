{
 "cells": [
  {
   "cell_type": "code",
   "execution_count": 18,
   "metadata": {},
   "outputs": [
    {
     "ename": "TypeError",
     "evalue": "list indices must be integers or slices, not list",
     "output_type": "error",
     "traceback": [
      "\u001b[1;31m---------------------------------------------------------------------------\u001b[0m",
      "\u001b[1;31mTypeError\u001b[0m                                 Traceback (most recent call last)",
      "\u001b[1;32mc:\\Users\\charm\\Desktop\\desktop stuff\\Computer Study\\ReStart\\restart-homework\\ticTacToe.ipynb Cell 1\u001b[0m line \u001b[0;36m2\n\u001b[0;32m     <a href='vscode-notebook-cell:/c%3A/Users/charm/Desktop/desktop%20stuff/Computer%20Study/ReStart/restart-homework/ticTacToe.ipynb#W2sZmlsZQ%3D%3D?line=11'>12</a>\u001b[0m board \u001b[39m=\u001b[39m [[s,v,s,v,s,n], \n\u001b[0;32m     <a href='vscode-notebook-cell:/c%3A/Users/charm/Desktop/desktop%20stuff/Computer%20Study/ReStart/restart-homework/ticTacToe.ipynb#W2sZmlsZQ%3D%3D?line=12'>13</a>\u001b[0m          [h,j,h,j,h,n],\n\u001b[0;32m     <a href='vscode-notebook-cell:/c%3A/Users/charm/Desktop/desktop%20stuff/Computer%20Study/ReStart/restart-homework/ticTacToe.ipynb#W2sZmlsZQ%3D%3D?line=13'>14</a>\u001b[0m          [s,v,s,v,s,n],\n\u001b[0;32m     <a href='vscode-notebook-cell:/c%3A/Users/charm/Desktop/desktop%20stuff/Computer%20Study/ReStart/restart-homework/ticTacToe.ipynb#W2sZmlsZQ%3D%3D?line=14'>15</a>\u001b[0m          [h,j,h,j,h,n],\n\u001b[0;32m     <a href='vscode-notebook-cell:/c%3A/Users/charm/Desktop/desktop%20stuff/Computer%20Study/ReStart/restart-homework/ticTacToe.ipynb#W2sZmlsZQ%3D%3D?line=15'>16</a>\u001b[0m          [s,v,s,v,s,n]]\n\u001b[0;32m     <a href='vscode-notebook-cell:/c%3A/Users/charm/Desktop/desktop%20stuff/Computer%20Study/ReStart/restart-homework/ticTacToe.ipynb#W2sZmlsZQ%3D%3D?line=18'>19</a>\u001b[0m \u001b[39mfor\u001b[39;00m i \u001b[39min\u001b[39;00m board:\n\u001b[1;32m---> <a href='vscode-notebook-cell:/c%3A/Users/charm/Desktop/desktop%20stuff/Computer%20Study/ReStart/restart-homework/ticTacToe.ipynb#W2sZmlsZQ%3D%3D?line=19'>20</a>\u001b[0m     \u001b[39mfor\u001b[39;00m j \u001b[39min\u001b[39;00m (board[i]):\n\u001b[0;32m     <a href='vscode-notebook-cell:/c%3A/Users/charm/Desktop/desktop%20stuff/Computer%20Study/ReStart/restart-homework/ticTacToe.ipynb#W2sZmlsZQ%3D%3D?line=20'>21</a>\u001b[0m         \u001b[39mif\u001b[39;00m i \u001b[39m==\u001b[39m s:\n\u001b[0;32m     <a href='vscode-notebook-cell:/c%3A/Users/charm/Desktop/desktop%20stuff/Computer%20Study/ReStart/restart-homework/ticTacToe.ipynb#W2sZmlsZQ%3D%3D?line=21'>22</a>\u001b[0m             \u001b[39mprint\u001b[39m(\u001b[39m\"\u001b[39m\u001b[39m \u001b[39m\u001b[39m\"\u001b[39m)\n",
      "\u001b[1;31mTypeError\u001b[0m: list indices must be integers or slices, not list"
     ]
    }
   ],
   "source": [
    "v = \"|\" #vertical\n",
    "h = \"-\" #horizontal\n",
    "j = \"-\" #join\n",
    "s = \" \" #space\n",
    "n = \"\\n\" #newline\n",
    "\n",
    "\n",
    "size = 1\n",
    "\n",
    "####display the tic tac toe layout\n",
    "\n",
    "board = []\n",
    "\n",
    "\n",
    "\n",
    "\n",
    "'''\n",
    "board = [[s,v,s,v,s,n], \n",
    "         [h,j,h,j,h,n],\n",
    "         [s,v,s,v,s,n],\n",
    "         [h,j,h,j,h,n],\n",
    "         [s,v,s,v,s,n]]\n",
    "\n",
    "\n",
    "for i in board:\n",
    "    for j in (board[i]):\n",
    "        if i == s:\n",
    "            print(\" \")\n",
    "        elif i == v:\n",
    "            print(\"|\")\n",
    "        elif i == h:\n",
    "            print(\"-\")\n",
    "        elif i == j:\n",
    "            print(\"-\")\n",
    "        elif i == n:\n",
    "            print(\"\\n\")\n",
    "'''\n",
    "print(\"done\")\n",
    "\n",
    "\n",
    "#size = 1\n",
    "#space   vert    space   vert    space\n",
    "#hori    join    hori    join    hori\n",
    "#space   vert    space   vert    space\n",
    "#hori    join    hori    join    hori\n",
    "#space   vert    space   vert    space\n",
    "\n",
    "#size = 2\n",
    "#space  space   vert    space   space   vert    space   space\n",
    "#space  space   vert    space   space   vert    space   space\n",
    "#hori   hori    join    hori    hori    join    hori    hori\n",
    "#space  space   vert    space   space   vert    space   space\n",
    "#space  space   vert    space   space   vert    space   space\n",
    "#hori   hori    join    hori    hori    join    hori    hori\n",
    "#space  space   vert    space   space   vert    space   space\n",
    "#space  space   vert    space   space   vert    space   space"
   ]
  },
  {
   "cell_type": "code",
   "execution_count": null,
   "metadata": {},
   "outputs": [],
   "source": []
  }
 ],
 "metadata": {
  "kernelspec": {
   "display_name": "Python 3",
   "language": "python",
   "name": "python3"
  },
  "language_info": {
   "codemirror_mode": {
    "name": "ipython",
    "version": 3
   },
   "file_extension": ".py",
   "mimetype": "text/x-python",
   "name": "python",
   "nbconvert_exporter": "python",
   "pygments_lexer": "ipython3",
   "version": "3.12.0"
  }
 },
 "nbformat": 4,
 "nbformat_minor": 2
}
